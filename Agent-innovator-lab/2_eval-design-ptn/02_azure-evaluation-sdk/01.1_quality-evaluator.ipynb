{
 "cells": [
  {
   "cell_type": "markdown",
   "metadata": {},
   "source": [
    "# Quality Evaluators with the Azure AI Evaluation SDK\n",
    "The following sample shows the basic way to evaluate a Generative AI application in your development environment with the Azure AI evaluation SDK.\n",
    "\n",
    "> ✨ ***Note*** <br>\n",
    "> Please check the reference document before you get started - https://learn.microsoft.com/en-us/azure/ai-studio/how-to/develop/evaluate-sdk"
   ]
  },
  {
   "cell_type": "markdown",
   "metadata": {
    "vscode": {
     "languageId": "shellscript"
    }
   },
   "source": [
    "## 🔨 Current Support and Limitations (as of 2025-01-14) \n",
    "- Check the region support for the Azure AI Evaluation SDK. https://learn.microsoft.com/en-us/azure/ai-studio/concepts/evaluation-metrics-built-in?tabs=warning#region-support\n",
    "\n",
    "### Region support for evaluations\n",
    "| Region              | Hate and Unfairness, Sexual, Violent, Self-Harm, XPIA, ECI (Text) | Groundedness (Text) | Protected Material (Text) | Hate and Unfairness, Sexual, Violent, Self-Harm, Protected Material (Image) |\n",
    "|---------------------|------------------------------------------------------------------|---------------------|----------------------------|----------------------------------------------------------------------------|\n",
    "| North Central US    | no                                                               | no                  | no                         | yes                                                                        |\n",
    "| East US 2           | yes                                                              | yes                 | yes                        | yes                                                                        |\n",
    "| Sweden Central      | yes                                                              | yes                 | yes                        | yes                                                                        |\n",
    "| US North Central    | yes                                                              | no                  | yes                        | yes                                                                        |\n",
    "| France Central      | yes                                                              | yes                 | yes                        | yes                                                                        |\n",
    "| Switzerland West    | yes                                                              | no                  | no                         | yes                                                                        |\n",
    "\n",
    "### Region support for adversarial simulation\n",
    "| Region            | Adversarial Simulation (Text) | Adversarial Simulation (Image) |\n",
    "|-------------------|-------------------------------|---------------------------------|\n",
    "| UK South          | yes                           | no                              |\n",
    "| East US 2         | yes                           | yes                             |\n",
    "| Sweden Central    | yes                           | yes                             |\n",
    "| US North Central  | yes                           | yes                             |\n",
    "| France Central    | yes                           | no                              |\n"
   ]
  },
  {
   "cell_type": "markdown",
   "metadata": {},
   "source": [
    "## ✔️ Pricing and billing\n",
    "- Effective 1/14/2025, Azure AI Safety Evaluations will no longer be free in public preview. It will be billed based on consumption as following:\n",
    "\n",
    "| Service Name              | Safety Evaluations       | Price Per 1K Tokens (USD) |\n",
    "|---------------------------|--------------------------|---------------------------|\n",
    "| Azure Machine Learning    | Input pricing for 3P     | $0.02                     |\n",
    "| Azure Machine Learning    | Output pricing for 3P    | $0.06                     |\n",
    "| Azure Machine Learning    | Input pricing for 1P     | $0.012                    |\n",
    "| Azure Machine Learning    | Output pricing for 1P    | $0.012                    |\n"
   ]
  },
  {
   "cell_type": "code",
   "execution_count": 1,
   "metadata": {},
   "outputs": [
    {
     "data": {
      "text/plain": [
       "True"
      ]
     },
     "execution_count": 1,
     "metadata": {},
     "output_type": "execute_result"
    }
   ],
   "source": [
    "import pandas as pd\n",
    "import os\n",
    "import json\n",
    "\n",
    "from pprint import pprint\n",
    "from azure.ai.evaluation import evaluate\n",
    "from azure.ai.evaluation import RelevanceEvaluator\n",
    "from azure.ai.evaluation import GroundednessEvaluator, GroundednessProEvaluator\n",
    "from azure.identity import DefaultAzureCredential\n",
    "from dotenv import load_dotenv\n",
    "from azure.ai.projects import AIProjectClient\n",
    "\n",
    "\n",
    "from azure.ai.evaluation import (\n",
    "    RelevanceEvaluator,\n",
    "    CoherenceEvaluator,\n",
    "    GroundednessEvaluator,\n",
    "    FluencyEvaluator,\n",
    "    SimilarityEvaluator,\n",
    "    F1ScoreEvaluator,\n",
    "    RetrievalEvaluator\n",
    ")\n",
    "\n",
    "load_dotenv(override=True)"
   ]
  },
  {
   "cell_type": "code",
   "execution_count": 2,
   "metadata": {},
   "outputs": [],
   "source": [
    "credential = DefaultAzureCredential()\n",
    "\n",
    "azure_ai_project_client = AIProjectClient(\n",
    "    endpoint=os.environ.get(\"AZURE_AI_PROJECT_ENDPOINT\"),\n",
    "    credential=DefaultAzureCredential()\n",
    ")\n",
    "\n",
    "model_config = {\n",
    "    \"azure_endpoint\": os.environ.get(\"AZURE_OPENAI_ENDPOINT\"),\n",
    "    \"api_key\": os.environ.get(\"AZURE_OPENAI_API_KEY\"),\n",
    "    \"azure_deployment\": os.environ.get(\"AZURE_OPENAI_CHAT_DEPLOYMENT_NAME\"),\n",
    "    \"api_version\": os.environ.get(\"AZURE_OPENAI_API_VERSION\"),\n",
    "    \"type\": \"azure_openai\",\n",
    "}"
   ]
  },
  {
   "cell_type": "code",
   "execution_count": 3,
   "metadata": {},
   "outputs": [],
   "source": [
    "query_response = dict(\n",
    "    query=\"Which tent is the most waterproof?\",\n",
    "    context=\"The Alpine Explorer Tent is the most water-proof of all tents available.\",\n",
    "    response=\"The Alpine Explorer Tent is the most waterproof.\"\n",
    ")\n",
    "\n",
    "conversation_str =  \"\"\"{\"messages\": [ { \"content\": \"Which tent is the most waterproof?\", \"role\": \"user\" }, { \"content\": \"The Alpine Explorer Tent is the most waterproof\", \"role\": \"assistant\", \"context\": \"From the our product list the alpine explorer tent is the most waterproof. The Adventure Dining Table has higher weight.\" }, { \"content\": \"How much does it cost?\", \"role\": \"user\" }, { \"content\": \"$120.\", \"role\": \"assistant\", \"context\": \"The Alpine Explorer Tent is $120.\"} ] }\"\"\" \n",
    "conversation = json.loads(conversation_str)"
   ]
  },
  {
   "cell_type": "markdown",
   "metadata": {},
   "source": [
    "## 🧪 AI-assisted Retrieval evaluator\n",
    "- Evaluates retrieval score for a given query and context or a multi-turn conversation, including reasoning.\n",
    "- The retrieval measure assesses the AI system's performance in retrieving information for additional context (e.g. a RAG scenario).\n",
    "- Retrieval scores range from 1 to 5, with 1 being the worst and 5 being the best."
   ]
  },
  {
   "cell_type": "code",
   "execution_count": 4,
   "metadata": {},
   "outputs": [
    {
     "name": "stdout",
     "output_type": "stream",
     "text": [
      "{'retrieval': 5.0, 'gpt_retrieval': 5.0, 'retrieval_reason': 'The context directly answers the query about which tent is the most waterproof, making it highly relevant and appropriately ranked. There are no irrelevant or extraneous details that detract from the answer.', 'retrieval_result': 'pass', 'retrieval_threshold': 3}\n"
     ]
    }
   ],
   "source": [
    "# Initialzing RetrievalEvaluator\n",
    "retrieval_eval = RetrievalEvaluator(model_config)\n",
    "# No need to set the model_config for GroundednessProEvaluator\n",
    "\n",
    "query_response = dict(\n",
    "    query=\"Which tent is the most waterproof?\", # optional\n",
    "    context=\"The Alpine Explorer Tent is the most water-proof of all tents available.\",\n",
    "    response=\"The Alpine Explorer Tent is the most waterproof.\"\n",
    ")\n",
    "\n",
    "# query_response = dict(\n",
    "#     query=\"어떤 텐트가 방수 기능이 있어?\", # optional\n",
    "#     context=\"알파인 익스플로러 텐트가 모든 텐트 중 가장 방수 기능이 뛰어남\",\n",
    "#     response=\"알파인 익스플로러 텐트가 방수 기능이 있습니다.\"\n",
    "# )\n",
    "\n",
    "# Running Groundedness Evaluator on a query and response pair\n",
    "retrieval_score = retrieval_eval(\n",
    "    **query_response\n",
    ")\n",
    "print(retrieval_score)"
   ]
  },
  {
   "cell_type": "markdown",
   "metadata": {},
   "source": [
    "## 🧪 AI-assisted RelevanceEvaluator\n",
    "- Relevance refers to how effectively a response addresses a question. It assesses the accuracy, completeness, and direct relevance of the response based solely on the given information."
   ]
  },
  {
   "cell_type": "code",
   "execution_count": 5,
   "metadata": {},
   "outputs": [
    {
     "name": "stdout",
     "output_type": "stream",
     "text": [
      "{'relevance': 4.0, 'gpt_relevance': 4.0, 'relevance_reason': 'The RESPONSE accurately identifies the most waterproof tent, directly answering the QUERY without any errors or omissions. Thus, it qualifies as a complete response.', 'relevance_result': 'pass', 'relevance_threshold': 3}\n",
      "{'relevance': 4.0, 'gpt_relevance': 4.0, 'relevance_threshold': 3.0, 'evaluation_per_turn': {'relevance': [4.0, 4.0], 'gpt_relevance': [4.0, 4.0], 'relevance_reason': ['The RESPONSE accurately identifies the most waterproof tent, directly addressing the QUERY without any omissions or inaccuracies.', 'The RESPONSE accurately answers the QUERY regarding cost, but it does not provide any additional context or details that could enhance the understanding of what the cost pertains to. Thus, it is a complete response but not comprehensive.'], 'relevance_result': ['pass', 'pass'], 'relevance_threshold': [3, 3]}}\n"
     ]
    }
   ],
   "source": [
    "relevance_eval = RelevanceEvaluator(model_config)\n",
    "\n",
    "query_response = dict(\n",
    "    query=\"Which tent is the most waterproof?\",\n",
    "    #context=\"The Alpine Explorer Tent is the most water-proof of all tents available.\",\n",
    "    response=\"The Alpine Explorer Tent is the most waterproof.\"\n",
    ")\n",
    "\n",
    "relevance_score = relevance_eval(\n",
    "    **query_response\n",
    ")\n",
    "print(relevance_score)\n",
    "\n",
    "# input conversation result\n",
    "relevance_conv_score = relevance_eval(conversation=conversation)\n",
    "print(relevance_conv_score)"
   ]
  },
  {
   "cell_type": "markdown",
   "metadata": {},
   "source": [
    "## 🧪 AI-assisted CoherenceEvaluator\n",
    "- Coherence refers to the logical and orderly presentation of ideas in a response, allowing the reader to easily follow and understand the writer's train of thought. A coherent answer directly addresses the question with clear connections between sentences and paragraphs, using appropriate transitions and a logical sequence of ideas."
   ]
  },
  {
   "cell_type": "code",
   "execution_count": 6,
   "metadata": {},
   "outputs": [
    {
     "name": "stdout",
     "output_type": "stream",
     "text": [
      "{'relevance': 4.0, 'gpt_relevance': 4.0, 'relevance_reason': 'The RESPONSE directly answers the QUERY by identifying the most waterproof tent, which is relevant and complete without any inaccuracies or omissions. Thus, it deserves a high score for relevance.', 'relevance_result': 'pass', 'relevance_threshold': 3}\n",
      "{'relevance': 4.0, 'gpt_relevance': 4.0, 'relevance_threshold': 3.0, 'evaluation_per_turn': {'relevance': [4.0, 4.0], 'gpt_relevance': [4.0, 4.0], 'relevance_reason': ['The RESPONSE accurately identifies the most waterproof tent, directly addressing the QUERY without any omissions or inaccuracies. Thus, it qualifies as a complete response.', 'The RESPONSE accurately answers the QUERY about cost with a specific figure, making it relevant and complete. However, it does not provide any additional context or details, which prevents it from being rated higher than a complete response.'], 'relevance_result': ['pass', 'pass'], 'relevance_threshold': [3, 3]}}\n",
      "{'coherence': 4.0, 'gpt_coherence': 4.0, 'coherence_reason': \"The RESPONSE directly answers the QUERY in a clear and concise manner, making it coherent. However, it could be improved with additional context or reasoning about the tent's waterproof qualities.\", 'coherence_result': 'pass', 'coherence_threshold': 3}\n",
      "{'coherence': 2.5, 'gpt_coherence': 2.5, 'coherence_threshold': 3.0, 'evaluation_per_turn': {'coherence': [4.0, 1.0], 'gpt_coherence': [4.0, 1.0], 'coherence_reason': ['The RESPONSE is coherent as it directly answers the QUERY with a clear and specific statement, making it easy to understand. There are no issues with logical flow or organization.', 'The RESPONSE does not provide any context or explanation related to the QUERY, making it incoherent and difficult to understand. It fails to address the question adequately.'], 'coherence_result': ['pass', 'fail'], 'coherence_threshold': [3, 3]}}\n"
     ]
    }
   ],
   "source": [
    "coherence_eval = CoherenceEvaluator(model_config)\n",
    "\n",
    "query_response = dict(\n",
    "    query=\"Which tent is the most waterproof?\",\n",
    "    #context=\"The Alpine Explorer Tent is the most water-proof of all tents available.\",\n",
    "    response=\"The Alpine Explorer Tent is the most waterproof.\"\n",
    ")\n",
    "\n",
    "relevance_score = relevance_eval(\n",
    "    **query_response\n",
    ")\n",
    "print(relevance_score)\n",
    "\n",
    "relevance_conv_score = relevance_eval(conversation=conversation)\n",
    "print(relevance_conv_score)\n",
    "\n",
    "coherence_score = coherence_eval(\n",
    "    **query_response\n",
    ")\n",
    "print(coherence_score)\n",
    "\n",
    "# input conversation result\n",
    "coherence_conv_score = coherence_eval(conversation=conversation)\n",
    "print(coherence_conv_score)"
   ]
  },
  {
   "cell_type": "markdown",
   "metadata": {},
   "source": [
    "## 🧪 AI-assisted FluencyEvaluator\n",
    "- Fluency refers to the effectiveness and clarity of written communication, focusing on grammatical accuracy, vocabulary range, sentence complexity, coherence, and overall readability. It assesses how smoothly ideas are conveyed and how easily the text can be understood by the reader."
   ]
  },
  {
   "cell_type": "code",
   "execution_count": 7,
   "metadata": {},
   "outputs": [
    {
     "name": "stdout",
     "output_type": "stream",
     "text": [
      "{'fluency': 2.0, 'gpt_fluency': 2.0, 'fluency_reason': 'The input Data should get a Score of 2 because it communicates a simple idea clearly but lacks complexity, variety, and has no grammatical errors. It is straightforward but does not demonstrate a higher level of fluency.', 'fluency_result': 'fail', 'fluency_threshold': 3}\n",
      "{'fluency': 1.5, 'gpt_fluency': 1.5, 'fluency_threshold': 3.0, 'evaluation_per_turn': {'fluency': [2.0, 1.0], 'gpt_fluency': [2.0, 1.0], 'fluency_reason': ['The input Data should get a Score of 2 because it communicates a simple idea clearly but lacks complexity, variety, and a broader vocabulary, which are necessary for higher fluency levels.', 'The RESPONSE is a single numerical value without any context or grammatical structure, making it largely incomprehensible and fitting the criteria for \"Emergent Fluency.\"'], 'fluency_result': ['fail', 'fail'], 'fluency_threshold': [3, 3]}}\n"
     ]
    }
   ],
   "source": [
    "fluency_eval = FluencyEvaluator(model_config)\n",
    "\n",
    "query_response = dict(\n",
    "    #query=\"Which tent is the most waterproof?\",\n",
    "    #context=\"The Alpine Explorer Tent is the most water-proof of all tents available.\",\n",
    "    response=\"The Alpine Explorer Tent is the most waterproof.\"\n",
    ")\n",
    "\n",
    "fluency_score = fluency_eval(\n",
    "    **query_response\n",
    ")\n",
    "print(fluency_score)\n",
    "\n",
    "# input conversation result\n",
    "fluency_conv_score = fluency_eval(conversation=conversation)\n",
    "print(fluency_conv_score)"
   ]
  },
  {
   "cell_type": "markdown",
   "metadata": {},
   "source": [
    "## 🧪 AI-assisted SimilarityEvaluator\n",
    "- The similarity metric is calculated by instructing a language model to follow the definition (in the description) and a set of grading rubrics, evaluate the user inputs, and output a score on a 5-point scale (higher means better quality). See the definition and grading rubrics below.\n",
    "- The recommended scenario is NLP tasks with a user query. Use it when you want an objective evaluation of an AI model's performance, particularly in text generation tasks where you have access to ground truth responses. Similarity enables you to assess the generated text's semantic alignment with the desired content, helping to gauge the model's quality and accuracy."
   ]
  },
  {
   "cell_type": "code",
   "execution_count": 8,
   "metadata": {},
   "outputs": [
    {
     "name": "stdout",
     "output_type": "stream",
     "text": [
      "{'similarity': 5.0, 'gpt_similarity': 5.0, 'similarity_result': 'pass', 'similarity_threshold': 3}\n"
     ]
    }
   ],
   "source": [
    "similarity_eval = SimilarityEvaluator(model_config)\n",
    "\n",
    "\n",
    "query_response = dict(\n",
    "    query=\"Which tent is the most waterproof?\",\n",
    "    #context=\"The Alpine Explorer Tent is the most water-proof of all tents available.\",\n",
    "    response=\"The Alpine Explorer Tent is the most waterproof.\",\n",
    "    ground_truth=\"The Alpine Explorer tent has a rainfly waterproof rating of 2000mm\"\n",
    ")\n",
    "\n",
    "similarity_score = similarity_eval(\n",
    "    **query_response\n",
    ")\n",
    "print(similarity_score)\n",
    "\n",
    "# input conversation Not support\n",
    "# similarity_conv_score = similarity_eval(conversation=conversation)\n",
    "# print(similarity_conv_score)"
   ]
  },
  {
   "cell_type": "markdown",
   "metadata": {},
   "source": [
    "## 🧪 AI-assisted Groundedness evaluator\n",
    "- Prompt-based groundedness using your own model deployment to output a score and an explanation for the score is currently supported in all regions.\n",
    "- Groundedness Pro evaluator leverages Azure AI Content Safety Service (AACS) via integration into the Azure AI Foundry evaluations. No deployment is required, as a back-end service will provide the models for you to output a score and reasoning. Groundedness Pro is currently supported in the East US 2 and Sweden Central regions."
   ]
  },
  {
   "cell_type": "code",
   "execution_count": 9,
   "metadata": {},
   "outputs": [
    {
     "name": "stdout",
     "output_type": "stream",
     "text": [
      "{'groundedness': 5.0, 'gpt_groundedness': 5.0, 'groundedness_reason': 'The RESPONSE accurately and completely answers the QUERY based on the CONTEXT provided, demonstrating full groundedness. There are no irrelevant details or incorrect information present.', 'groundedness_result': 'pass', 'groundedness_threshold': 3}\n",
      "{'groundedness': 5.0, 'gpt_groundedness': 5.0, 'groundedness_threshold': 3.0, 'evaluation_per_turn': {'groundedness': [5.0, 5.0], 'gpt_groundedness': [5.0, 5.0], 'groundedness_reason': ['The RESPONSE accurately and completely answers the QUERY based on the CONTEXT provided, demonstrating full groundedness. There are no irrelevant details or incorrect information present.', 'The response accurately and completely answers the query by providing the exact cost mentioned in the context, demonstrating full relevance and correctness.'], 'groundedness_result': ['pass', 'pass'], 'groundedness_threshold': [3, 3]}}\n"
     ]
    }
   ],
   "source": [
    "# Initialzing Groundedness and Groundedness Pro evaluators\n",
    "groundedness_eval = GroundednessEvaluator(model_config)\n",
    "# No need to set the model_config for GroundednessProEvaluator\n",
    "\n",
    "query_response = dict(\n",
    "    query=\"Which tent is the most waterproof?\", # optional\n",
    "    context=\"The Alpine Explorer Tent is the most water-proof of all tents available.\",\n",
    "    response=\"The Alpine Explorer Tent is the most waterproof.\"\n",
    ")\n",
    "\n",
    "# query_response = dict(\n",
    "#     query=\"어떤 텐트가 방수 기능이 있어?\", # optional\n",
    "#     context=\"알파인 익스플로러 텐트가 모든 텐트 중 가장 방수 기능이 뛰어남\",\n",
    "#     response=\"알파인 익스플로러 텐트가 방수 기능이 있습니다.\"\n",
    "# )\n",
    "\n",
    "# Running Groundedness Evaluator on a query and response pair\n",
    "groundedness_score = groundedness_eval(\n",
    "    **query_response\n",
    ")\n",
    "print(groundedness_score)\n",
    "\n",
    "# input conversation result for the groundedness evaluator\n",
    "groundedness_conv_score = groundedness_eval(conversation=conversation)\n",
    "print(groundedness_conv_score)"
   ]
  },
  {
   "cell_type": "markdown",
   "metadata": {},
   "source": [
    "## 🚀 Run Evaluators Local"
   ]
  },
  {
   "cell_type": "code",
   "execution_count": 10,
   "metadata": {},
   "outputs": [],
   "source": [
    "input_path = \"data/evaluate_test_data.jsonl\"\n",
    "output_path = \"data/local_evaluation_output.json\"\n",
    "\n",
    "# https://learn.microsoft.com/en-us/azure/ai-studio/how-to/develop/flow-evaluate-sdk\n",
    "retrieval_evaluator = RetrievalEvaluator(model_config)\n",
    "fluency_evaluator = FluencyEvaluator(model_config)\n",
    "groundedness_evaluator = GroundednessEvaluator(model_config)\n",
    "relevance_evaluator = RelevanceEvaluator(model_config)\n",
    "coherence_evaluator = CoherenceEvaluator(model_config)\n",
    "similarity_evaluator = SimilarityEvaluator(model_config)\n",
    "\n",
    "\n",
    "column_mapping = {\n",
    "    \"query\": \"${data.query}\",\n",
    "    \"ground_truth\": \"${data.ground_truth}\",\n",
    "    \"response\": \"${data.response}\",\n",
    "    \"context\": \"${data.context}\",\n",
    "}"
   ]
  },
  {
   "cell_type": "code",
   "execution_count": 11,
   "metadata": {},
   "outputs": [
    {
     "name": "stderr",
     "output_type": "stream",
     "text": [
      "[2025-06-20 08:55:21 +0000][promptflow._core.entry_meta_generator][WARNING] - Generate meta in current process and timeout won't take effect. Please handle timeout manually outside current process.\n",
      "[2025-06-20 08:55:21 +0000][promptflow._core.entry_meta_generator][WARNING] - Generate meta in current process and timeout won't take effect. Please handle timeout manually outside current process.\n",
      "[2025-06-20 08:55:21 +0000][promptflow._core.entry_meta_generator][WARNING] - Generate meta in current process and timeout won't take effect. Please handle timeout manually outside current process.\n",
      "[2025-06-20 08:55:21 +0000][promptflow._core.entry_meta_generator][WARNING] - Generate meta in current process and timeout won't take effect. Please handle timeout manually outside current process.\n",
      "[2025-06-20 08:55:21 +0000][promptflow._sdk._orchestrator.run_submitter][INFO] - Submitting run azure_ai_evaluation_evaluators_Groundedness_20250620_085521_026329, log path: /home/azureuser/.promptflow/.runs/azure_ai_evaluation_evaluators_Groundedness_20250620_085521_026329/logs.txt\n",
      "[2025-06-20 08:55:21 +0000][promptflow._sdk._orchestrator.run_submitter][INFO] - Submitting run azure_ai_evaluation_evaluators_Similarity_20250620_085521_029710, log path: /home/azureuser/.promptflow/.runs/azure_ai_evaluation_evaluators_Similarity_20250620_085521_029710/logs.txt\n",
      "[2025-06-20 08:55:21 +0000][promptflow._sdk._orchestrator.run_submitter][INFO] - Submitting run azure_ai_evaluation_evaluators_Coherence_20250620_085521_028265, log path: /home/azureuser/.promptflow/.runs/azure_ai_evaluation_evaluators_Coherence_20250620_085521_028265/logs.txt\n",
      "[2025-06-20 08:55:21 +0000][promptflow._sdk._orchestrator.run_submitter][INFO] - Submitting run azure_ai_evaluation_evaluators_Relevance_20250620_085521_026914, log path: /home/azureuser/.promptflow/.runs/azure_ai_evaluation_evaluators_Relevance_20250620_085521_026914/logs.txt\n",
      "[2025-06-20 08:55:21 +0000][promptflow._core.entry_meta_generator][WARNING] - Generate meta in current process and timeout won't take effect. Please handle timeout manually outside current process.\n",
      "[2025-06-20 08:55:21 +0000][promptflow._sdk._orchestrator.run_submitter][INFO] - Submitting run azure_ai_evaluation_evaluators_Retrieval_20250620_085521_025257, log path: /home/azureuser/.promptflow/.runs/azure_ai_evaluation_evaluators_Retrieval_20250620_085521_025257/logs.txt\n",
      "[2025-06-20 08:55:21 +0000][promptflow._core.entry_meta_generator][WARNING] - Generate meta in current process and timeout won't take effect. Please handle timeout manually outside current process.\n",
      "[2025-06-20 08:55:21 +0000][promptflow._sdk._orchestrator.run_submitter][INFO] - Submitting run azure_ai_evaluation_evaluators_Fluency_20250620_085521_025738, log path: /home/azureuser/.promptflow/.runs/azure_ai_evaluation_evaluators_Fluency_20250620_085521_025738/logs.txt\n"
     ]
    },
    {
     "name": "stdout",
     "output_type": "stream",
     "text": [
      "2025-06-20 08:55:21 +0000  491972 execution.bulk     INFO     Current thread is not main thread, skip signal handler registration in BatchEngine.\n",
      "2025-06-20 08:55:22 +0000  491972 execution.bulk     INFO     Finished 1 / 3 lines.\n",
      "2025-06-20 08:55:22 +0000  491972 execution.bulk     INFO     Average execution time for completed lines: 0.59 seconds. Estimated time for incomplete lines: 1.18 seconds.\n",
      "2025-06-20 08:55:22 +0000  491972 execution.bulk     INFO     Finished 2 / 3 lines.\n",
      "2025-06-20 08:55:22 +0000  491972 execution.bulk     INFO     Average execution time for completed lines: 0.32 seconds. Estimated time for incomplete lines: 0.32 seconds.\n",
      "2025-06-20 08:55:22 +0000  491972 execution.bulk     INFO     Finished 3 / 3 lines.\n",
      "2025-06-20 08:55:22 +0000  491972 execution.bulk     INFO     Average execution time for completed lines: 0.24 seconds. Estimated time for incomplete lines: 0.0 seconds.\n",
      "======= Run Summary =======\n",
      "\n",
      "Run name: \"azure_ai_evaluation_evaluators_Similarity_20250620_085521_029710\"\n",
      "Run status: \"Completed\"\n",
      "Start time: \"2025-06-20 08:55:21.065434+00:00\"\n",
      "Duration: \"0:00:01.739102\"\n",
      "Output path: \"/home/azureuser/.promptflow/.runs/azure_ai_evaluation_evaluators_Similarity_20250620_085521_029710\"\n",
      "\n",
      "2025-06-20 08:55:24 +0000  491972 execution.bulk     INFO     Finished 1 / 3 lines.\n",
      "2025-06-20 08:55:24 +0000  491972 execution.bulk     INFO     Average execution time for completed lines: 2.74 seconds. Estimated time for incomplete lines: 5.48 seconds.\n",
      "2025-06-20 08:55:24 +0000  491972 execution.bulk     INFO     Finished 1 / 3 lines.\n",
      "2025-06-20 08:55:24 +0000  491972 execution.bulk     INFO     Average execution time for completed lines: 3.29 seconds. Estimated time for incomplete lines: 6.58 seconds.\n",
      "2025-06-20 08:55:24 +0000  491972 execution.bulk     INFO     Finished 1 / 3 lines.\n",
      "2025-06-20 08:55:24 +0000  491972 execution.bulk     INFO     Average execution time for completed lines: 3.28 seconds. Estimated time for incomplete lines: 6.56 seconds.\n",
      "2025-06-20 08:55:25 +0000  491972 execution.bulk     INFO     Finished 1 / 3 lines.\n",
      "2025-06-20 08:55:25 +0000  491972 execution.bulk     INFO     Average execution time for completed lines: 3.3 seconds. Estimated time for incomplete lines: 6.6 seconds.\n",
      "2025-06-20 08:55:25 +0000  491972 execution.bulk     INFO     Finished 2 / 3 lines.\n",
      "2025-06-20 08:55:25 +0000  491972 execution.bulk     INFO     Average execution time for completed lines: 1.73 seconds. Estimated time for incomplete lines: 1.73 seconds.\n",
      "2025-06-20 08:55:25 +0000  491972 execution.bulk     INFO     Finished 2 / 3 lines.\n",
      "2025-06-20 08:55:25 +0000  491972 execution.bulk     INFO     Average execution time for completed lines: 1.81 seconds. Estimated time for incomplete lines: 1.81 seconds.\n",
      "2025-06-20 08:55:25 +0000  491972 execution.bulk     INFO     Finished 1 / 3 lines.\n",
      "2025-06-20 08:55:25 +0000  491972 execution.bulk     INFO     Average execution time for completed lines: 3.6 seconds. Estimated time for incomplete lines: 7.2 seconds.\n",
      "2025-06-20 08:55:25 +0000  491972 execution.bulk     INFO     Finished 3 / 3 lines.\n",
      "2025-06-20 08:55:25 +0000  491972 execution.bulk     INFO     Average execution time for completed lines: 1.28 seconds. Estimated time for incomplete lines: 0.0 seconds.\n",
      "2025-06-20 08:55:25 +0000  491972 execution.bulk     INFO     Finished 2 / 3 lines.\n",
      "2025-06-20 08:55:25 +0000  491972 execution.bulk     INFO     Average execution time for completed lines: 1.88 seconds. Estimated time for incomplete lines: 1.88 seconds.\n",
      "2025-06-20 08:55:25 +0000  491972 execution.bulk     INFO     Finished 2 / 3 lines.\n",
      "2025-06-20 08:55:25 +0000  491972 execution.bulk     INFO     Average execution time for completed lines: 1.99 seconds. Estimated time for incomplete lines: 1.99 seconds.\n",
      "2025-06-20 08:55:21 +0000  491972 execution.bulk     INFO     Current thread is not main thread, skip signal handler registration in BatchEngine.\n",
      "2025-06-20 08:55:24 +0000  491972 execution.bulk     INFO     Finished 1 / 3 lines.\n",
      "2025-06-20 08:55:24 +0000  491972 execution.bulk     INFO     Average execution time for completed lines: 3.29 seconds. Estimated time for incomplete lines: 6.58 seconds.\n",
      "2025-06-20 08:55:25 +0000  491972 execution.bulk     INFO     Finished 2 / 3 lines.\n",
      "2025-06-20 08:55:25 +0000  491972 execution.bulk     INFO     Average execution time for completed lines: 1.81 seconds. Estimated time for incomplete lines: 1.81 seconds.\n",
      "2025-06-20 08:55:25 +0000  491972 execution.bulk     INFO     Finished 3 / 3 lines.\n",
      "2025-06-20 08:55:25 +0000  491972 execution.bulk     INFO     Average execution time for completed lines: 1.28 seconds. Estimated time for incomplete lines: 0.0 seconds.\n",
      "======= Run Summary =======\n",
      "\n",
      "Run name: \"azure_ai_evaluation_evaluators_Coherence_20250620_085521_028265\"\n",
      "Run status: \"Completed\"\n",
      "Start time: \"2025-06-20 08:55:21.065140+00:00\"\n",
      "Duration: \"0:00:04.581537\"\n",
      "Output path: \"/home/azureuser/.promptflow/.runs/azure_ai_evaluation_evaluators_Coherence_20250620_085521_028265\"\n",
      "\n",
      "2025-06-20 08:55:25 +0000  491972 execution.bulk     INFO     Finished 3 / 3 lines.\n",
      "2025-06-20 08:55:25 +0000  491972 execution.bulk     INFO     Average execution time for completed lines: 1.38 seconds. Estimated time for incomplete lines: 0.0 seconds.\n",
      "2025-06-20 08:55:26 +0000  491972 execution.bulk     INFO     Finished 3 / 3 lines.\n",
      "2025-06-20 08:55:26 +0000  491972 execution.bulk     INFO     Average execution time for completed lines: 1.48 seconds. Estimated time for incomplete lines: 0.0 seconds.\n",
      "2025-06-20 08:55:26 +0000  491972 execution.bulk     INFO     Finished 2 / 3 lines.\n",
      "2025-06-20 08:55:26 +0000  491972 execution.bulk     INFO     Average execution time for completed lines: 2.42 seconds. Estimated time for incomplete lines: 2.42 seconds.\n",
      "2025-06-20 08:55:21 +0000  491972 execution.bulk     INFO     Current thread is not main thread, skip signal handler registration in BatchEngine.\n",
      "2025-06-20 08:55:25 +0000  491972 execution.bulk     INFO     Finished 1 / 3 lines.\n",
      "2025-06-20 08:55:25 +0000  491972 execution.bulk     INFO     Average execution time for completed lines: 3.6 seconds. Estimated time for incomplete lines: 7.2 seconds.\n",
      "2025-06-20 08:55:25 +0000  491972 execution.bulk     INFO     Finished 2 / 3 lines.\n",
      "2025-06-20 08:55:25 +0000  491972 execution.bulk     INFO     Average execution time for completed lines: 1.99 seconds. Estimated time for incomplete lines: 1.99 seconds.\n",
      "2025-06-20 08:55:25 +0000  491972 execution.bulk     INFO     Finished 3 / 3 lines.\n",
      "2025-06-20 08:55:25 +0000  491972 execution.bulk     INFO     Average execution time for completed lines: 1.38 seconds. Estimated time for incomplete lines: 0.0 seconds.\n",
      "======= Run Summary =======\n",
      "\n",
      "Run name: \"azure_ai_evaluation_evaluators_Groundedness_20250620_085521_026329\"\n",
      "Run status: \"Completed\"\n",
      "Start time: \"2025-06-20 08:55:21.062238+00:00\"\n",
      "Duration: \"0:00:05.645208\"\n",
      "Output path: \"/home/azureuser/.promptflow/.runs/azure_ai_evaluation_evaluators_Groundedness_20250620_085521_026329\"\n",
      "\n",
      "2025-06-20 08:55:21 +0000  491972 execution.bulk     INFO     Current thread is not main thread, skip signal handler registration in BatchEngine.\n",
      "2025-06-20 08:55:25 +0000  491972 execution.bulk     INFO     Finished 1 / 3 lines.\n",
      "2025-06-20 08:55:25 +0000  491972 execution.bulk     INFO     Average execution time for completed lines: 3.3 seconds. Estimated time for incomplete lines: 6.6 seconds.\n",
      "2025-06-20 08:55:25 +0000  491972 execution.bulk     INFO     Finished 2 / 3 lines.\n",
      "2025-06-20 08:55:25 +0000  491972 execution.bulk     INFO     Average execution time for completed lines: 1.73 seconds. Estimated time for incomplete lines: 1.73 seconds.\n",
      "2025-06-20 08:55:26 +0000  491972 execution.bulk     INFO     Finished 3 / 3 lines.\n",
      "2025-06-20 08:55:26 +0000  491972 execution.bulk     INFO     Average execution time for completed lines: 1.48 seconds. Estimated time for incomplete lines: 0.0 seconds.\n",
      "======= Run Summary =======\n",
      "\n",
      "Run name: \"azure_ai_evaluation_evaluators_Fluency_20250620_085521_025738\"\n",
      "Run status: \"Completed\"\n",
      "Start time: \"2025-06-20 08:55:21.065848+00:00\"\n",
      "Duration: \"0:00:05.676971\"\n",
      "Output path: \"/home/azureuser/.promptflow/.runs/azure_ai_evaluation_evaluators_Fluency_20250620_085521_025738\"\n",
      "\n",
      "2025-06-20 08:55:27 +0000  491972 execution.bulk     INFO     Finished 3 / 3 lines.\n",
      "2025-06-20 08:55:27 +0000  491972 execution.bulk     INFO     Average execution time for completed lines: 1.87 seconds. Estimated time for incomplete lines: 0.0 seconds.\n",
      "2025-06-20 08:55:27 +0000  491972 execution.bulk     INFO     Finished 3 / 3 lines.\n",
      "2025-06-20 08:55:27 +0000  491972 execution.bulk     INFO     Average execution time for completed lines: 2.04 seconds. Estimated time for incomplete lines: 0.0 seconds.\n",
      "2025-06-20 08:55:21 +0000  491972 execution.bulk     INFO     Current thread is not main thread, skip signal handler registration in BatchEngine.\n",
      "2025-06-20 08:55:24 +0000  491972 execution.bulk     INFO     Finished 1 / 3 lines.\n",
      "2025-06-20 08:55:24 +0000  491972 execution.bulk     INFO     Average execution time for completed lines: 2.74 seconds. Estimated time for incomplete lines: 5.48 seconds.\n",
      "2025-06-20 08:55:25 +0000  491972 execution.bulk     INFO     Finished 2 / 3 lines.\n",
      "2025-06-20 08:55:25 +0000  491972 execution.bulk     INFO     Average execution time for completed lines: 1.88 seconds. Estimated time for incomplete lines: 1.88 seconds.\n",
      "2025-06-20 08:55:27 +0000  491972 execution.bulk     INFO     Finished 3 / 3 lines.\n",
      "2025-06-20 08:55:27 +0000  491972 execution.bulk     INFO     Average execution time for completed lines: 1.87 seconds. Estimated time for incomplete lines: 0.0 seconds.\n",
      "======= Run Summary =======\n",
      "\n",
      "Run name: \"azure_ai_evaluation_evaluators_Relevance_20250620_085521_026914\"\n",
      "Run status: \"Completed\"\n",
      "Start time: \"2025-06-20 08:55:21.063179+00:00\"\n",
      "Duration: \"0:00:06.715740\"\n",
      "Output path: \"/home/azureuser/.promptflow/.runs/azure_ai_evaluation_evaluators_Relevance_20250620_085521_026914\"\n",
      "\n",
      "2025-06-20 08:55:21 +0000  491972 execution.bulk     INFO     Current thread is not main thread, skip signal handler registration in BatchEngine.\n",
      "2025-06-20 08:55:24 +0000  491972 execution.bulk     INFO     Finished 1 / 3 lines.\n",
      "2025-06-20 08:55:24 +0000  491972 execution.bulk     INFO     Average execution time for completed lines: 3.28 seconds. Estimated time for incomplete lines: 6.56 seconds.\n",
      "2025-06-20 08:55:26 +0000  491972 execution.bulk     INFO     Finished 2 / 3 lines.\n",
      "2025-06-20 08:55:26 +0000  491972 execution.bulk     INFO     Average execution time for completed lines: 2.42 seconds. Estimated time for incomplete lines: 2.42 seconds.\n",
      "2025-06-20 08:55:27 +0000  491972 execution.bulk     INFO     Finished 3 / 3 lines.\n",
      "2025-06-20 08:55:27 +0000  491972 execution.bulk     INFO     Average execution time for completed lines: 2.04 seconds. Estimated time for incomplete lines: 0.0 seconds.\n",
      "======= Run Summary =======\n",
      "\n",
      "Run name: \"azure_ai_evaluation_evaluators_Retrieval_20250620_085521_025257\"\n",
      "Run status: \"Completed\"\n",
      "Start time: \"2025-06-20 08:55:21.064111+00:00\"\n",
      "Duration: \"0:00:07.619607\"\n",
      "Output path: \"/home/azureuser/.promptflow/.runs/azure_ai_evaluation_evaluators_Retrieval_20250620_085521_025257\"\n",
      "\n",
      "======= Combined Run Summary (Per Evaluator) =======\n",
      "\n",
      "{\n",
      "    \"Retrieval\": {\n",
      "        \"status\": \"Completed\",\n",
      "        \"duration\": \"0:00:07.619607\",\n",
      "        \"completed_lines\": 3,\n",
      "        \"failed_lines\": 0,\n",
      "        \"log_path\": \"/home/azureuser/.promptflow/.runs/azure_ai_evaluation_evaluators_Retrieval_20250620_085521_025257\"\n",
      "    },\n",
      "    \"Fluency\": {\n",
      "        \"status\": \"Completed\",\n",
      "        \"duration\": \"0:00:05.676971\",\n",
      "        \"completed_lines\": 3,\n",
      "        \"failed_lines\": 0,\n",
      "        \"log_path\": \"/home/azureuser/.promptflow/.runs/azure_ai_evaluation_evaluators_Fluency_20250620_085521_025738\"\n",
      "    },\n",
      "    \"Groundedness\": {\n",
      "        \"status\": \"Completed\",\n",
      "        \"duration\": \"0:00:05.645208\",\n",
      "        \"completed_lines\": 3,\n",
      "        \"failed_lines\": 0,\n",
      "        \"log_path\": \"/home/azureuser/.promptflow/.runs/azure_ai_evaluation_evaluators_Groundedness_20250620_085521_026329\"\n",
      "    },\n",
      "    \"Relevance\": {\n",
      "        \"status\": \"Completed\",\n",
      "        \"duration\": \"0:00:06.715740\",\n",
      "        \"completed_lines\": 3,\n",
      "        \"failed_lines\": 0,\n",
      "        \"log_path\": \"/home/azureuser/.promptflow/.runs/azure_ai_evaluation_evaluators_Relevance_20250620_085521_026914\"\n",
      "    },\n",
      "    \"Coherence\": {\n",
      "        \"status\": \"Completed\",\n",
      "        \"duration\": \"0:00:04.581537\",\n",
      "        \"completed_lines\": 3,\n",
      "        \"failed_lines\": 0,\n",
      "        \"log_path\": \"/home/azureuser/.promptflow/.runs/azure_ai_evaluation_evaluators_Coherence_20250620_085521_028265\"\n",
      "    },\n",
      "    \"Similarity\": {\n",
      "        \"status\": \"Completed\",\n",
      "        \"duration\": \"0:00:01.739102\",\n",
      "        \"completed_lines\": 3,\n",
      "        \"failed_lines\": 0,\n",
      "        \"log_path\": \"/home/azureuser/.promptflow/.runs/azure_ai_evaluation_evaluators_Similarity_20250620_085521_029710\"\n",
      "    }\n",
      "}\n",
      "\n",
      "====================================================\n",
      "\n",
      "Evaluation results saved to \"/afh/code/agent-innovator-lab/2_eval-design-ptn/02_azure-evaluation-sdk/data/local_evaluation_output.json\".\n",
      "\n"
     ]
    }
   ],
   "source": [
    "import time\n",
    "result = evaluate(\n",
    "    evaluation_name=f\"evaluation_local_{int(time.time())}\",\n",
    "    data=input_path,\n",
    "    evaluators={\n",
    "            \"Retrieval\": retrieval_evaluator,\n",
    "            \"Fluency\": fluency_evaluator,\n",
    "            \"Groundedness\": groundedness_evaluator,\n",
    "            \"Relevance\": relevance_evaluator,\n",
    "            \"Coherence\": coherence_evaluator,\n",
    "            \"Similarity\": similarity_evaluator\n",
    "\n",
    "        },\n",
    "    evaluator_config={\n",
    "        \"retrieval\": {\"column_mapping\": column_mapping},\n",
    "        \"relevance\": {\"column_mapping\": column_mapping},\n",
    "        \"similarity\": {\"column_mapping\": column_mapping},\n",
    "        \"groundedness\": {\"column_mapping\": column_mapping},\n",
    "        \"coherence\": {\"column_mapping\": column_mapping},\n",
    "        \"similarity\": {\"column_mapping\": column_mapping},\n",
    "    },\n",
    "    #if you want to record the data in Azure AI Foundry add the below\n",
    "    #azure_ai_project=azure_ai_project_client,\n",
    "    output_path=output_path,\n",
    ")"
   ]
  },
  {
   "cell_type": "code",
   "execution_count": 12,
   "metadata": {},
   "outputs": [
    {
     "data": {
      "image/png": "[encoded data removed]",
      "text/plain": [
       "<Figure size 1800x1500 with 6 Axes>"
      ]
     },
     "metadata": {},
     "output_type": "display_data"
    }
   ],
   "source": [
    "import json\n",
    "import matplotlib.pyplot as plt\n",
    "from collections import Counter\n",
    "\n",
    "with open(output_path, \"r\", encoding=\"utf-8\") as f:\n",
    "    data = json.load(f)\n",
    "\n",
    "rows = data[\"rows\"]\n",
    "\n",
    "\n",
    "rating_fields = [\n",
    "    \"outputs.Retrieval.retrieval\",\n",
    "    \"outputs.Coherence.coherence\",\n",
    "    \"outputs.Fluency.fluency\",\n",
    "    \"outputs.Groundedness.groundedness\",\n",
    "    \"outputs.Relevance.relevance\",\n",
    "    \"outputs.Similarity.similarity\",\n",
    "]\n",
    "\n",
    "fig, axes = plt.subplots(nrows=3, ncols=2, figsize=(18, 15))\n",
    "\n",
    "for ax, field in zip(axes.flatten(), rating_fields):\n",
    "    # count the occurrences of each score\n",
    "    counter = Counter(row[field] for row in rows if field in row)\n",
    "    \n",
    "    \n",
    "    x = [1, 2, 3, 4, 5]\n",
    "    y = [counter.get(score, 0) for score in x]\n",
    "    \n",
    "    ax.bar(x, y)\n",
    "    ax.set_title(field)\n",
    "    ax.set_xlabel(\"Score\")\n",
    "    ax.set_ylabel(\"Count\")\n",
    "\n",
    "plt.tight_layout()\n",
    "plt.show()"
   ]
  }
 ],
 "metadata": {
  "kernelspec": {
   "display_name": "venv_agentlab",
   "language": "python",
   "name": "python3"
  },
  "language_info": {
   "codemirror_mode": {
    "name": "ipython",
    "version": 3
   },
   "file_extension": ".py",
   "mimetype": "text/x-python",
   "name": "python",
   "nbconvert_exporter": "python",
   "pygments_lexer": "ipython3",
   "version": "3.11.11"
  }
 },
 "nbformat": 4,
 "nbformat_minor": 2
}
