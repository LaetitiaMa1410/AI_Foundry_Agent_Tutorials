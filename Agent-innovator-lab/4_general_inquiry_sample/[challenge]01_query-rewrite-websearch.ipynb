{
 "cells": [
  {
   "cell_type": "markdown",
   "id": "138d2cb2",
   "metadata": {},
   "source": [
    "# Query Rewrite and Web Search Context for LLMs\n",
    "\n",
    "- This code snippet demonstrates how to rewrite a query, perform a web search, and prepare the results for use with a language model (LLM). It includes functions to rewrite the query using a language model, perform a web search using the rewritten query, and format the search results for the LLM.\n",
    "\n",
    "\n",
    "\n"
   ]
  },
  {
   "cell_type": "code",
   "execution_count": 1,
   "id": "5623f0df",
   "metadata": {},
   "outputs": [
    {
     "data": {
      "text/plain": [
       "True"
      ]
     },
     "execution_count": 1,
     "metadata": {},
     "output_type": "execute_result"
    }
   ],
   "source": [
    "import sys\n",
    "import os\n",
    "from openai import AzureOpenAI\n",
    "import requests\n",
    "import json\n",
    "from urllib.parse import urljoin\n",
    "\n",
    "from azure.ai.projects import AIProjectClient\n",
    "from azure.identity import DefaultAzureCredential\n",
    "from langchain_core.prompts import PromptTemplate\n",
    "from langchain_core.prompts import load_prompt\n",
    "import sys\n",
    "import logging\n",
    "parent_dir = os.path.dirname(os.getcwd())\n",
    "if parent_dir not in sys.path:\n",
    "    sys.path.append(parent_dir)\n",
    "from utils.search_utils import web_search\n",
    "from IPython.display import Markdown, display\n",
    "from datetime import datetime\n",
    "import time\n",
    "import os\n",
    "import pytz\n",
    "from dotenv import load_dotenv\n",
    "load_dotenv(override=True) "
   ]
  },
  {
   "cell_type": "code",
   "execution_count": null,
   "id": "897bb2fe",
   "metadata": {},
   "outputs": [],
   "source": [
    "# Configure logging\n",
    "logging.basicConfig(level=logging.ERROR, format='%(asctime)s - %(name)s - %(levelname)s - %(message)s')\n",
    "logger = logging.getLogger(__name__)\n",
    "\n",
    "\n",
    "# Get credentials from environment variables\n",
    "BING_GROUNDING_PROJECT_ENDPOINT = os.getenv(\"BING_GROUNDING_PROJECT_ENDPOINT\")\n",
    "BING_GROUNDING_CONNECTION_ID = os.getenv(\"BING_GROUNDING_CONNECTION_ID\")\n",
    "BING_GROUNDING_AGENT_MODEL_DEPLOYMENT_NAME = os.getenv(\"BING_GROUNDING_AGENT_MODEL_DEPLOYMENT_NAME\")\n",
    "BING_GROUNDING_MAX_RESULTS = int(os.getenv(\"BING_GROUNDING_MAX_RESULTS\", 10))\n",
    "BING_GROUNDING_MARKET = os.getenv(\"BING_GROUNDING_MARKET\", \"ko-KR\")\n",
    "BING_GROUNDING_SET_LANG = os.getenv(\"BING_GROUNDING_SET_LANG\", \"ko-KR\")\n",
    "AZURE_OPENAI_CHAT_DEPLOYMENT_NAME = os.getenv(\"AZURE_OPENAI_CHAT_DEPLOYMENT_NAME\", \"gpt-4o-mini\")\n",
    "\n",
    "\n",
    "client = AzureOpenAI(\n",
    "  azure_endpoint = os.getenv(\"AZURE_OPENAI_ENDPOINT\"), \n",
    "  api_key=os.getenv(\"AZURE_OPENAI_API_KEY\"),  \n",
    "  api_version=\"2025-03-01-preview\"\n",
    ")\n",
    "\n",
    "current_dir = os.getcwd()\n",
    "\n",
    "def rewrite_query_for_search(query, client: AzureOpenAI):    \n",
    "        \n",
    "        # TODO Customize your prompt\n",
    "        QUERY_REWRITE_PROMPT = \"\"\"\n",
    "          You are an expert in rewriting user queries to improve search results. \n",
    "          Here is the user's original query:\n",
    "          {user_query}\n",
    "          \n",
    "          <<Format>>\n",
    "          The response should be in JSON Object format with the following keys\n",
    "          {{\n",
    "          \"search_query\": \"검색용 재작성된 질문\"\n",
    "          }}\n",
    "        \"\"\"\n",
    "        response = client.chat.completions.create(\n",
    "            model=AZURE_OPENAI_CHAT_DEPLOYMENT_NAME,\n",
    "            messages=[\n",
    "                {\"role\": \"system\", \"content\": QUERY_REWRITE_PROMPT.format(\n",
    "                  user_query=query)},\n",
    "                {\"role\": \"user\", \"content\": query}\n",
    "            ],\n",
    "            temperature=0.8,\n",
    "            max_tokens=300,\n",
    "            response_format= {\"type\": \"json_object\"},\n",
    "        )\n",
    "\n",
    "        print(\"Rewritten query for search:\", response.choices[0].message.content.strip())\n",
    "        \n",
    "        return json.loads(response.choices[0].message.content.strip())\n"
   ]
  },
  {
   "cell_type": "code",
   "execution_count": null,
   "id": "69b6f992",
   "metadata": {},
   "outputs": [],
   "source": [
    "\n",
    "# 웹 검색 결과를 활용해 LLM 답변을 생성하는 비동기 함수\n",
    "async def process_web_search(RESULTS_COUNT, input, web_search_mode=None, product_name=None):\n",
    "    \n",
    "    start_time = time.time()\n",
    "    print(f\"Original Input: {input}\")\n",
    "\n",
    "    # 검색 모드가 지정되지 않으면 환경변수\n",
    "    if web_search_mode is None:\n",
    "        web_search_mode = os.getenv(\"WEB_SEARCH_MODE\", \"google\").lower()\n",
    "\n",
    "    print(f\"############## Web Search Mode: {web_search_mode}\")\n",
    "    # query rewrite (검색용/LLM용)\n",
    "    query_rewrite = rewrite_query_for_search(input, client)\n",
    "\n",
    "    # 웹 검색 실행 (비동기)\n",
    "    print(\"Search rewrited search queries...\")   \n",
    "    results = await web_search(query_rewrite, RESULTS_COUNT, web_search_mode=web_search_mode, product_name=product_name)\n",
    "\n",
    "    # Create a prompt for generating updated, targeted\n",
    "\n",
    "    GENERATE_PROMPT = \"\"\"\n",
    "    <<Customize your prompt here>>\n",
    "    You are an expert in generating responses based on search results. Your task is to generate a response using the provided search results and the user's query.\n",
    "    Here are the search results:\n",
    "    {contexts}\n",
    "    Here is the user's query:\n",
    "    {user_query}\n",
    "    \"\"\"\n",
    "    \n",
    "    answer_messages = [\n",
    "        {\"role\": \"system\", \"content\": GENERATE_PROMPT.format(\n",
    "            product_name=product_name,\n",
    "            date=None,\n",
    "            contexts=results if results else '검색 결과 없음',\n",
    "            user_query=query_rewrite,\n",
    "        )},\n",
    "        {\"role\": \"user\", \"content\": query_rewrite}\n",
    "    ]\n",
    "            \n",
    "    print(\"Generate response...\")   \n",
    "    \n",
    "    if web_search_mode == \"google\" and isinstance(results, list) and results:\n",
    "        response = client.chat.completions.create(\n",
    "            model=AZURE_OPENAI_CHAT_DEPLOYMENT_NAME,\n",
    "            messages=answer_messages,\n",
    "            top_p=0.9,\n",
    "            max_tokens=1500\n",
    "        )\n",
    "        display(Markdown(response.choices[0].message.content))\n",
    "    elif web_search_mode == \"bing\" and isinstance(results, list) and results:\n",
    "        for result in results:\n",
    "            if isinstance(result, str):\n",
    "                display(Markdown(result))\n",
    "            else:\n",
    "                display(Markdown(str(result)))\n",
    "\n",
    "    else:\n",
    "        display(Markdown(\"검색 결과가 없습니다. 다른 질문을 해주세요.\"))\n",
    "    \n",
    "    end_time = time.time()\n",
    "    print(f\"elapsed time: {end_time - start_time:.2f} seconds\\n\\n\")\n"
   ]
  },
  {
   "cell_type": "code",
   "execution_count": 16,
   "id": "4999ff08",
   "metadata": {},
   "outputs": [
    {
     "name": "stdout",
     "output_type": "stream",
     "text": [
      "Original Input: 엄빠폰 느낌좋은걸로 추구미 비교 추천\n",
      "############## Web Search Mode: bing\n"
     ]
    },
    {
     "name": "stdout",
     "output_type": "stream",
     "text": [
      "Rewritten query for search: {\n",
      "  \"search_query\": \"엄마 아빠 스마트폰 추천 및 비교 - 느낌 좋은 모델 찾기\"\n",
      "}\n",
      "Search rewrited search queries...\n",
      "Generate response...\n"
     ]
    },
    {
     "data": {
      "text/markdown": [
       "부모님을 위한 스마트폰 추천 및 비교에 대한 최신 정보는 다음과 같습니다. 2025년형 스마트폰 모델을 기준으로, 사용의 용이성, 가격 대비 성능, 배터리 수명 등을 고려하여 추천된 몇 가지 모델을 소개합니다.\n",
       "\n",
       "### 추천 스마트폰 모델\n",
       "\n",
       "1. **삼성 갤럭시 A34**\n",
       "   - **특징**: 가성비가 뛰어나고 직관적인 UI.\n",
       "   - **가격**: 최저가 구매링크 확인 필요.\n",
       "\n",
       "2. **아이폰 SE 3세대**\n",
       "   - **특징**: 아이폰 특유의 안정성과 간편한 사용.\n",
       "   - **가격**: 최저가 구매링크 확인 필요.\n",
       "\n",
       "3. **LG Q92** (중고 또는 재고)\n",
       "   - **특징**: 기본적인 성능과 가성비가 우수.\n",
       "   - **가격**: 최저가 구매링크 확인 필요.\n",
       "\n",
       "4. **샤오미 레드미노트 12**\n",
       "   - **특징**: 성능과 가격 모두 만족스러운 모델.\n",
       "   - **가격**: 해외직구 가능, 최저가 구매링크 확인 필요.\n",
       "\n",
       "5. **삼성 갤럭시 와이드6**\n",
       "   - **특징**: 효도폰 베스트셀러로, 사용법이 간단해 적합.\n",
       "   - **가격**: 최저가 구매링크 확인 필요.\n",
       "\n",
       "### 추천 이유 및 사용 팁\n",
       "부모님들은 통상적으로 고사양의 스마트폰보다는 사용이 간편하고 가격 대비 성능이 우수한 모델을 선호합니다. 특히, 카카오톡과 같은 기본적인 앱 사용이 원활하도록 데이터를 백업해 두는 것이 좋습니다. \n",
       "\n",
       "또한, 가성비가 뛰어난 제품들이 많으니 구매 전 가격 비교를 통해 최저가를 찾아보세요! \n",
       "\n",
       "더 많은 정보는 다음 링크를 통해 확인할 수 있습니다:\n",
       "- [부모님을 위한 스마트폰 추천 리스트 (2025년형)](https://okaminer.com/%EB%B6%80%EB%AA%A8%EB%8B%98%EC%9D%84-%EC%9C%84%ED%95%9C-%EC%8A%A4%EB%A7%88%ED%8A%B8%ED%8F%B0-%EC%B6%94%EC%B2%9C-%EB%A6%AC%EC%8A%A4%ED%8A%B8-2025%EB%85%84%ED%98%95/)【3:0†source】\n",
       "- [50,60대 부모님을 위한 스마트폰 추천 TOP5 (2025년 최신)](https://hazzistory.com/entry/5060%EB%8C%80-%EB%B6%80%EB%AA%A8%EB%8B%98%EC%9D%84-%EC%9C%84%ED%95%9C-%EC%8A%A4%EB%A7%88%ED%8A%B8%ED%8F%B0-%EC%B6%94%EC%B2%9C-TOP5-2025%EB%85%84-%EC%B5%9C%EC%8B%A0)【3:1†source】."
      ],
      "text/plain": [
       "<IPython.core.display.Markdown object>"
      ]
     },
     "metadata": {},
     "output_type": "display_data"
    },
    {
     "name": "stdout",
     "output_type": "stream",
     "text": [
      "elapsed time: 28.15 seconds\n",
      "\n",
      "\n"
     ]
    }
   ],
   "source": [
    "RESULTS_COUNT = 5\n",
    "\n",
    "inputs = [\n",
    "    \"엄빠폰 느낌좋은걸로 추구미 비교 추천\",\n",
    "    # \"내 동생을 위한 스마트폰 추천\",\n",
    "    # \"삼성전자 25년 제품이 작년 대비 좋아진것은\",\n",
    "    # \"테슬라 모델3와 모델 Y 차이점이 뭐야\",\n",
    "    # \"내 핸드폰 요금제를 절약하는 법\",\n",
    "]\n",
    "\n",
    "web_search_mode = \"bing\"\n",
    "\n",
    "for input in inputs:\n",
    "    await process_web_search(RESULTS_COUNT, input, web_search_mode, product_name=\"ㅇㅇ전자\")  # product_name은 필요에 따라 변경 가능"
   ]
  },
  {
   "cell_type": "markdown",
   "id": "3b27ae30",
   "metadata": {},
   "source": [
    "# Challenge: Rewrite the query to be more specific and perform a web search\n",
    "\n",
    "### Requirements:\n",
    "1. Please only show our company's products.\n",
    "1. Please provide detailed answers even short questions."
   ]
  },
  {
   "cell_type": "code",
   "execution_count": null,
   "id": "e6b71dfc",
   "metadata": {},
   "outputs": [],
   "source": []
  },
  {
   "cell_type": "code",
   "execution_count": null,
   "id": "14a4c99a",
   "metadata": {},
   "outputs": [],
   "source": []
  }
 ],
 "metadata": {
  "kernelspec": {
   "display_name": "venv_agentlab",
   "language": "python",
   "name": "python3"
  },
  "language_info": {
   "codemirror_mode": {
    "name": "ipython",
    "version": 3
   },
   "file_extension": ".py",
   "mimetype": "text/x-python",
   "name": "python",
   "nbconvert_exporter": "python",
   "pygments_lexer": "ipython3",
   "version": "3.11.11"
  }
 },
 "nbformat": 4,
 "nbformat_minor": 5
}
